{
 "cells": [
  {
   "cell_type": "markdown",
   "metadata": {},
   "source": [
    "## Dot Plot for Sequence Alignment"
   ]
  },
  {
   "cell_type": "markdown",
   "metadata": {},
   "source": [
    "Write a program to implement the Dot plot of sequence alignment. \n",
    "\n",
    "The program should take two sequences as input and a window size W based on which the alignment would be performed."
   ]
  },
  {
   "cell_type": "code",
   "execution_count": 1,
   "metadata": {},
   "outputs": [
    {
     "name": "stdout",
     "output_type": "stream",
     "text": [
      "Enter sequence 1: AACCTATAGCT\n",
      "Enter sequence 2: GCGATATA\n",
      "Enter window size: 1\n",
      " |AACCTATAGCT\n",
      "-------------\n",
      "G|        •  \n",
      "C|  ••     • \n",
      "G|        •  \n",
      "A|••   • •   \n",
      "T|    • •   •\n",
      "A|••   • •   \n",
      "T|    • •   •\n",
      "A|••   • •   \n"
     ]
    }
   ],
   "source": [
    "# Using Window size = 1\n",
    "\n",
    "seq_1 = input (\"Enter sequence 1: \")\n",
    "seq_2 = input (\"Enter sequence 2: \")\n",
    "\n",
    "window = int(input (\"Enter window size: \"))\n",
    "\n",
    "def plotMatrix (M, t, s1, s2, nonblank = '•', blank = ' '):\n",
    "    print(' |' + s2)\n",
    "    print('-'*(2 + len(s2)))\n",
    "    for label, row in zip(s1, M):\n",
    "        line = ''.join(nonblank if s < t else blank for s in row)\n",
    "        print (label + '|' + line)\n",
    "    \n",
    "def makeMatrix (s1, s2, k):\n",
    "    n = len(s1)\n",
    "    m = len(s2)\n",
    "    return [[M(s1,s2,i,j,k) for j in range(m-k+1)] for i in range(n-k+1)]\n",
    "def delta (x,y):\n",
    "    return 0 if x == y else 1\n",
    "def M(s1,s2,i,j,k):\n",
    "    return sum(delta(x,y) for x,y in zip(s1[i:i+k],s2[j:j+k]))\n",
    "\n",
    "def dotplot(s1, s2, w = window, t = 1):\n",
    "    M = makeMatrix (s2, s1, w)\n",
    "    plotMatrix (M, t, s2, s1)\n",
    "\n",
    "dotplot(seq_1, seq_2)"
   ]
  },
  {
   "cell_type": "code",
   "execution_count": 2,
   "metadata": {},
   "outputs": [
    {
     "name": "stdout",
     "output_type": "stream",
     "text": [
      "Enter sequence 1: AACCTATAGCT\n",
      "Enter sequence 2: GCGATATA\n",
      "Enter window size: 2\n",
      " |AACCTATAGCT\n",
      "-------------\n",
      "G|        • \n",
      "C|          \n",
      "G|          \n",
      "A|     •    \n",
      "T|    • •   \n",
      "A|     •    \n",
      "T|    • •   \n"
     ]
    }
   ],
   "source": [
    "# Using Window size = 2\n",
    "\n",
    "seq_1 = input (\"Enter sequence 1: \")\n",
    "seq_2 = input (\"Enter sequence 2: \")\n",
    "\n",
    "window = int(input (\"Enter window size: \"))\n",
    "\n",
    "def plotMatrix (M, t, s1, s2, nonblank = '•', blank = ' '):\n",
    "    print(' |' + s2)\n",
    "    print('-'*(2 + len(s2)))\n",
    "    for label, row in zip(s1, M):\n",
    "        line = ''.join(nonblank if s < t else blank for s in row)\n",
    "        print (label + '|' + line)\n",
    "    \n",
    "def makeMatrix (s1, s2, k):\n",
    "    n = len(s1)\n",
    "    m = len(s2)\n",
    "    return [[M(s1,s2,i,j,k) for j in range(m-k+1)] for i in range(n-k+1)]\n",
    "def delta (x,y):\n",
    "    return 0 if x == y else 1\n",
    "def M(s1,s2,i,j,k):\n",
    "    return sum(delta(x,y) for x,y in zip(s1[i:i+k],s2[j:j+k]))\n",
    "\n",
    "def dotplot(s1, s2, w = window, t = 1):\n",
    "    M = makeMatrix (s2, s1, w)\n",
    "    plotMatrix (M, t, s2, s1)\n",
    "\n",
    "dotplot(seq_1, seq_2)"
   ]
  },
  {
   "cell_type": "code",
   "execution_count": 3,
   "metadata": {},
   "outputs": [
    {
     "name": "stdout",
     "output_type": "stream",
     "text": [
      "Enter sequence 1: AACCTATAGCT\n",
      "Enter sequence 2: GCGATATA\n",
      "Enter window size: 3\n",
      " |AACCTATAGCT\n",
      "-------------\n",
      "G|         \n",
      "C|         \n",
      "G|         \n",
      "A|     •   \n",
      "T|    •    \n",
      "A|     •   \n"
     ]
    }
   ],
   "source": [
    "# Using Window size = 3\n",
    "\n",
    "seq_1 = input (\"Enter sequence 1: \")\n",
    "seq_2 = input (\"Enter sequence 2: \")\n",
    "\n",
    "window = int(input (\"Enter window size: \"))\n",
    "\n",
    "def plotMatrix (M, t, s1, s2, nonblank = '•', blank = ' '):\n",
    "    print(' |' + s2)\n",
    "    print('-'*(2 + len(s2)))\n",
    "    for label, row in zip(s1, M):\n",
    "        line = ''.join(nonblank if s < t else blank for s in row)\n",
    "        print (label + '|' + line)\n",
    "    \n",
    "def makeMatrix (s1, s2, k):\n",
    "    n = len(s1)\n",
    "    m = len(s2)\n",
    "    return [[M(s1,s2,i,j,k) for j in range(m-k+1)] for i in range(n-k+1)]\n",
    "def delta (x,y):\n",
    "    return 0 if x == y else 1\n",
    "def M(s1,s2,i,j,k):\n",
    "    return sum(delta(x,y) for x,y in zip(s1[i:i+k],s2[j:j+k]))\n",
    "\n",
    "def dotplot(s1, s2, w = window, t = 1):\n",
    "    M = makeMatrix (s2, s1, w)\n",
    "    plotMatrix (M, t, s2, s1)\n",
    "\n",
    "dotplot(seq_1, seq_2)"
   ]
  },
  {
   "cell_type": "code",
   "execution_count": null,
   "metadata": {},
   "outputs": [],
   "source": []
  }
 ],
 "metadata": {
  "kernelspec": {
   "display_name": "Python 3",
   "language": "python",
   "name": "python3"
  },
  "language_info": {
   "codemirror_mode": {
    "name": "ipython",
    "version": 3
   },
   "file_extension": ".py",
   "mimetype": "text/x-python",
   "name": "python",
   "nbconvert_exporter": "python",
   "pygments_lexer": "ipython3",
   "version": "3.7.6"
  }
 },
 "nbformat": 4,
 "nbformat_minor": 4
}
